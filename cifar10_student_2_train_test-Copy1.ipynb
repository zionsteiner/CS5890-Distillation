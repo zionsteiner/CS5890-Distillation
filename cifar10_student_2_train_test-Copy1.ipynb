{
 "cells": [
  {
   "cell_type": "code",
   "execution_count": 1,
   "metadata": {},
   "outputs": [
    {
     "name": "stderr",
     "output_type": "stream",
     "text": [
      "Using TensorFlow backend.\n"
     ]
    }
   ],
   "source": [
    "from __future__ import print_function\n",
    "import keras\n",
    "from keras.datasets import cifar10\n",
    "from keras.preprocessing.image import ImageDataGenerator\n",
    "from keras.models import Sequential\n",
    "from keras.layers import Dense, Dropout, Activation, Flatten, BatchNormalization\n",
    "from keras.layers import Conv2D, MaxPooling2D\n",
    "import os"
   ]
  },
  {
   "cell_type": "code",
   "execution_count": 2,
   "metadata": {},
   "outputs": [],
   "source": [
    "batch_size = 128\n",
    "num_classes = 10\n",
    "epochs = 75\n",
    "data_augmentation = True\n",
    "num_predictions = 10"
   ]
  },
  {
   "cell_type": "code",
   "execution_count": 3,
   "metadata": {},
   "outputs": [
    {
     "name": "stdout",
     "output_type": "stream",
     "text": [
      "x_train shape: (50000, 32, 32, 3)\n",
      "50000 train samples\n",
      "10000 test samples\n"
     ]
    }
   ],
   "source": [
    "# The data, split between train and test sets:\n",
    "(x_train, y_train), (x_test, y_test) = cifar10.load_data()\n",
    "print('x_train shape:', x_train.shape)\n",
    "print(x_train.shape[0], 'train samples')\n",
    "print(x_test.shape[0], 'test samples')"
   ]
  },
  {
   "cell_type": "code",
   "execution_count": 4,
   "metadata": {},
   "outputs": [],
   "source": [
    "# Convert class vectors to binary class matrices.\n",
    "y_train = keras.utils.to_categorical(y_train, num_classes)\n",
    "y_test = keras.utils.to_categorical(y_test, num_classes)"
   ]
  },
  {
   "cell_type": "code",
   "execution_count": 8,
   "metadata": {},
   "outputs": [],
   "source": [
    "from keras import models, layers\n",
    "from keras.initializers import lecun_normal\n",
    "\n",
    "def build_student():\n",
    "    initializer = lecun_normal(seed=0)\n",
    "\n",
    "    model = models.Sequential()\n",
    "    model.add(layers.Flatten(input_shape=(32, 32, 3)))\n",
    "    model.add(layers.Dense(64, kernel_initializer=initializer))\n",
    "    model.add(layers.BatchNormalization())\n",
    "    model.add(layers.Activation('relu'))\n",
    "    model.add(layers.Dense(64, kernel_initializer=initializer))\n",
    "    model.add(layers.BatchNormalization())\n",
    "    model.add(layers.Activation('relu'))\n",
    "    model.add(layers.Dense(10, kernel_initializer=initializer))\n",
    "    model.add(layers.Activation('softmax'))\n",
    "    \n",
    "    return model"
   ]
  },
  {
   "cell_type": "code",
   "execution_count": 9,
   "metadata": {},
   "outputs": [],
   "source": [
    "student = build_student()\n",
    "# initiate optimizer\n",
    "opt = 'adam'\n",
    "student.compile(loss='categorical_crossentropy',\n",
    "                optimizer=opt,\n",
    "                metrics=['accuracy'])\n",
    "\n",
    "x_train = x_train.astype('float32')\n",
    "x_test = x_test.astype('float32')\n",
    "x_train /= 255\n",
    "x_test /= 255\n",
    "\n",
    "\n",
    "# This will do preprocessing and realtime data augmentation:\n",
    "datagen = ImageDataGenerator()"
   ]
  },
  {
   "cell_type": "code",
   "execution_count": 10,
   "metadata": {},
   "outputs": [
    {
     "name": "stdout",
     "output_type": "stream",
     "text": [
      "WARNING:tensorflow:From C:\\Users\\ender\\Anaconda3\\lib\\site-packages\\keras\\backend\\tensorflow_backend.py:422: The name tf.global_variables is deprecated. Please use tf.compat.v1.global_variables instead.\n",
      "\n",
      "Epoch 1/75\n",
      "391/391 [==============================] - 5s 14ms/step - loss: 1.6882 - accuracy: 0.4031 - val_loss: 1.7398 - val_accuracy: 0.3922\n",
      "Epoch 2/75\n",
      "391/391 [==============================] - 4s 11ms/step - loss: 1.4783 - accuracy: 0.4762 - val_loss: 2.0654 - val_accuracy: 0.3245\n",
      "Epoch 3/75\n",
      "391/391 [==============================] - 4s 11ms/step - loss: 1.3925 - accuracy: 0.5067 - val_loss: 1.4973 - val_accuracy: 0.4668\n",
      "Epoch 4/75\n",
      "391/391 [==============================] - 4s 11ms/step - loss: 1.3339 - accuracy: 0.5273 - val_loss: 1.7251 - val_accuracy: 0.3998\n",
      "Epoch 5/75\n",
      "391/391 [==============================] - 4s 11ms/step - loss: 1.2888 - accuracy: 0.5417 - val_loss: 1.6074 - val_accuracy: 0.4332\n",
      "Epoch 6/75\n",
      "391/391 [==============================] - 4s 11ms/step - loss: 1.2522 - accuracy: 0.5537 - val_loss: 1.5195 - val_accuracy: 0.4629\n",
      "Epoch 7/75\n",
      "391/391 [==============================] - 4s 11ms/step - loss: 1.2219 - accuracy: 0.5631 - val_loss: 1.6201 - val_accuracy: 0.4387\n",
      "Epoch 8/75\n",
      "391/391 [==============================] - 4s 11ms/step - loss: 1.1933 - accuracy: 0.5764 - val_loss: 1.6208 - val_accuracy: 0.4358\n"
     ]
    }
   ],
   "source": [
    "from keras.callbacks import EarlyStopping\n",
    "\n",
    "datagen.fit(x_train)\n",
    "history = student.fit_generator(datagen.flow(x_train, y_train, batch_size=batch_size),\n",
    "                      epochs=epochs,\n",
    "                      validation_data=(x_test, y_test),\n",
    "                               callbacks=[\n",
    "                                        EarlyStopping(monitor='val_loss', patience=5, min_delta=0.005)\n",
    "                                    ])"
   ]
  },
  {
   "cell_type": "code",
   "execution_count": 11,
   "metadata": {},
   "outputs": [
    {
     "name": "stdout",
     "output_type": "stream",
     "text": [
      "10000/10000 [==============================] - 1s 100us/step\n"
     ]
    }
   ],
   "source": [
    "results = student.evaluate(x_test, y_test)"
   ]
  },
  {
   "cell_type": "code",
   "execution_count": 12,
   "metadata": {},
   "outputs": [
    {
     "name": "stdout",
     "output_type": "stream",
     "text": [
      "Model: \"sequential_1\"\n",
      "_________________________________________________________________\n",
      "Layer (type)                 Output Shape              Param #   \n",
      "=================================================================\n",
      "flatten_1 (Flatten)          (None, 3072)              0         \n",
      "_________________________________________________________________\n",
      "dense_1 (Dense)              (None, 64)                196672    \n",
      "_________________________________________________________________\n",
      "batch_normalization_1 (Batch (None, 64)                256       \n",
      "_________________________________________________________________\n",
      "activation_1 (Activation)    (None, 64)                0         \n",
      "_________________________________________________________________\n",
      "dense_2 (Dense)              (None, 64)                4160      \n",
      "_________________________________________________________________\n",
      "batch_normalization_2 (Batch (None, 64)                256       \n",
      "_________________________________________________________________\n",
      "activation_2 (Activation)    (None, 64)                0         \n",
      "_________________________________________________________________\n",
      "dense_3 (Dense)              (None, 10)                650       \n",
      "_________________________________________________________________\n",
      "activation_3 (Activation)    (None, 10)                0         \n",
      "=================================================================\n",
      "Total params: 201,994\n",
      "Trainable params: 201,738\n",
      "Non-trainable params: 256\n",
      "_________________________________________________________________\n",
      "Errors:  5642.000138759613\n",
      "Accuracy:  43.57999861240387 %\n"
     ]
    }
   ],
   "source": [
    "student.summary()\n",
    "print('Errors: ', len(x_test) - results[1] * len(x_test))\n",
    "print('Accuracy: ', results[1]*100, '%')"
   ]
  },
  {
   "cell_type": "code",
   "execution_count": 13,
   "metadata": {},
   "outputs": [],
   "source": [
    "student.save('models/cifar10_student_2.h5')"
   ]
  }
 ],
 "metadata": {
  "kernelspec": {
   "display_name": "Python 3",
   "language": "python",
   "name": "python3"
  },
  "language_info": {
   "codemirror_mode": {
    "name": "ipython",
    "version": 3
   },
   "file_extension": ".py",
   "mimetype": "text/x-python",
   "name": "python",
   "nbconvert_exporter": "python",
   "pygments_lexer": "ipython3",
   "version": "3.7.3"
  }
 },
 "nbformat": 4,
 "nbformat_minor": 4
}
