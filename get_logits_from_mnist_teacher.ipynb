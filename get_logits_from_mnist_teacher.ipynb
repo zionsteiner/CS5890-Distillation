{
 "cells": [
  {
   "cell_type": "code",
   "execution_count": null,
   "metadata": {},
   "outputs": [],
   "source": [
    "import numpy as np\n",
    "from tqdm import tqdm\n",
    "import sys\n",
    "sys.path.append('Knowledge-Distillation/utils/')\n",
    "\n",
    "# Outputs x_batch, y_batch, and image names\n",
    "from image_preprocessing_ver1 import ImageDataGenerator\n",
    "from keras.models import Model"
   ]
  },
  {
   "cell_type": "code",
   "execution_count": null,
   "metadata": {},
   "outputs": [],
   "source": [
    "from keras.datasets import mnist\n",
    "\n",
    "(x_train, y_train), (x_test, y_test) = mnist.load_data()"
   ]
  },
  {
   "cell_type": "code",
   "execution_count": null,
   "metadata": {},
   "outputs": [],
   "source": [
    "from keras.utils import to_categorical\n",
    "\n",
    "x_train = x_train.reshape(x_train.shape + (1,))\n",
    "x_test = x_test.reshape(x_test.shape + (1,))\n",
    "\n",
    "# y_train = to_categorical(y_train)\n",
    "# y_test = to_categorical(y_test)"
   ]
  },
  {
   "cell_type": "code",
   "execution_count": null,
   "metadata": {},
   "outputs": [],
   "source": [
    "import os\n",
    "\n",
    "data_generator = ImageDataGenerator(data_format='channels_last')\n",
    "\n",
    "batch_size = 1\n",
    "\n",
    "data_dir = f'{os.getcwd()}\\data\\mnist'\n",
    "\n",
    "train_generator = data_generator.flow_from_directory(os.path.join(data_dir, 'train'), target_size=(28, 28), color_mode='grayscale', shuffle=False, batch_size=batch_size)\n",
    "\n",
    "val_generator = data_generator.flow_from_directory(os.path.join(data_dir, 'test'), target_size=(28, 28), color_mode='grayscale', shuffle=False, batch_size=batch_size)"
   ]
  },
  {
   "cell_type": "code",
   "execution_count": null,
   "metadata": {},
   "outputs": [],
   "source": [
    "# Saves MNIST to dir for use with ImageDataGenerator\n",
    "\n",
    "# from keras.preprocessing.image import save_img, load_img, img_to_array\n",
    "# import os\n",
    "# from collections import defaultdict\n",
    "\n",
    "# save_path = 'data/mnist/test'\n",
    "# name_dict = defaultdict(int)\n",
    "# for i, img in enumerate(x_test):\n",
    "#     img_array = img_to_array(img)\n",
    "#     name = os.path.join(save_path, str(y_test[i]), str(y_test[i])+'('+str(name_dict[y_test[i]])+')'+'.jpg')\n",
    "#     name_dict[y_test[i]] += 1\n",
    "#     save_img(name, img)"
   ]
  },
  {
   "cell_type": "code",
   "execution_count": null,
   "metadata": {},
   "outputs": [],
   "source": [
    "from keras.models import load_model\n",
    "\n",
    "model = load_model('mnist_teacher.h5')\n",
    "\n",
    "# Remove softmax layer\n",
    "model.pop()\n",
    "\n",
    "# This model outputs teacher logits\n",
    "model = Model(model.input, model.layers[-1].output)"
   ]
  },
  {
   "cell_type": "code",
   "execution_count": null,
   "metadata": {},
   "outputs": [],
   "source": [
    "batches = 0\n",
    "train_logits = {}\n",
    "\n",
    "for x_batch, _, name_batch in tqdm(train_generator):\n",
    "    batch_logits = model.predict_on_batch(x_batch)\n",
    "    \n",
    "    for index, name in enumerate(name_batch):\n",
    "        train_logits[name] = batch_logits[index]\n",
    "        \n",
    "    batches += 1\n",
    "    if batches > len(x_train) / batch_size:\n",
    "        break"
   ]
  },
  {
   "cell_type": "code",
   "execution_count": null,
   "metadata": {},
   "outputs": [],
   "source": [
    "batches = 0\n",
    "val_logits = {}\n",
    "\n",
    "for x_batch, _, name_batch in tqdm(val_generator):\n",
    "    batch_logits = model.predict_on_batch(x_batch)\n",
    "    \n",
    "    for index, name in enumerate(name_batch):\n",
    "        val_logits[name] = batch_logits[index]\n",
    "        \n",
    "    batches += 1\n",
    "    if batches > len(x_test) / batch_size:\n",
    "        break"
   ]
  },
  {
   "cell_type": "code",
   "execution_count": null,
   "metadata": {},
   "outputs": [],
   "source": [
    "np.save(data_dir + 'mnist_train_logits.npy', train_logits)\n",
    "np.save(data_dir + 'mnist_val_logits.npy', val_logits)"
   ]
  }
 ],
 "metadata": {
  "kernelspec": {
   "display_name": "Python 3",
   "language": "python",
   "name": "python3"
  },
  "language_info": {
   "codemirror_mode": {
    "name": "ipython",
    "version": 3
   },
   "file_extension": ".py",
   "mimetype": "text/x-python",
   "name": "python",
   "nbconvert_exporter": "python",
   "pygments_lexer": "ipython3",
   "version": "3.7.3"
  }
 },
 "nbformat": 4,
 "nbformat_minor": 4
}
