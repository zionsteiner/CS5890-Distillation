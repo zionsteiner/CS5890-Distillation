{
 "cells": [
  {
   "cell_type": "code",
   "execution_count": null,
   "metadata": {},
   "outputs": [],
   "source": [
    "import keras\n",
    "from keras.datasets import cifar10\n",
    "from keras.preprocessing.image import ImageDataGenerator\n",
    "from keras.models import Sequential\n",
    "from keras.layers import Dense, Dropout, Activation, Flatten, BatchNormalization\n",
    "from keras.layers import Conv2D, MaxPooling2D\n",
    "import os"
   ]
  },
  {
   "cell_type": "code",
   "execution_count": null,
   "metadata": {},
   "outputs": [],
   "source": [
    "batch_size = 128\n",
    "num_classes = 10\n",
    "epochs = 75"
   ]
  },
  {
   "cell_type": "code",
   "execution_count": null,
   "metadata": {},
   "outputs": [],
   "source": [
    "# The data, split between train and test sets:\n",
    "(x_train, y_train), (x_test, y_test) = cifar10.load_data()\n",
    "print('x_train shape:', x_train.shape)\n",
    "print(x_train.shape[0], 'train samples')\n",
    "print(x_test.shape[0], 'test samples')"
   ]
  },
  {
   "cell_type": "code",
   "execution_count": null,
   "metadata": {},
   "outputs": [],
   "source": [
    "# Define student model\n",
    "from keras.initializers import lecun_normal\n",
    "\n",
    "def build_student():\n",
    "    initializer = lecun_normal(seed=1)\n",
    "    \n",
    "    student = Sequential()\n",
    "    student.add(Conv2D(16, (3, 3),\n",
    "                     input_shape=x_train.shape[1:],\n",
    "                      kernel_initializer=initializer))\n",
    "    student.add(Activation('relu'))\n",
    "    student.add(MaxPooling2D(pool_size=(2, 2)))\n",
    "\n",
    "    student.add(Conv2D(32, (3, 3),\n",
    "                       kernel_initializer=initializer))\n",
    "    student.add(Activation('relu'))\n",
    "    student.add(MaxPooling2D(pool_size=(2, 2)))\n",
    "\n",
    "    student.add(Flatten())\n",
    "    student.add(Dense(64, kernel_initializer=initializer))\n",
    "    student.add(Activation('relu'))\n",
    "    student.add(Dense(num_classes, kernel_initializer=initializer))\n",
    "    student.add(Activation('softmax'))\n",
    "    \n",
    "    return student"
   ]
  },
  {
   "cell_type": "code",
   "execution_count": null,
   "metadata": {},
   "outputs": [],
   "source": [
    "# Compile and prep data\n",
    "\n",
    "student = build_student()\n",
    "\n",
    "student.compile(loss='categorical_crossentropy',\n",
    "                optimizer='adam',\n",
    "                metrics=['accuracy'])\n",
    "\n",
    "# Normalize pixel values\n",
    "x_train = x_train.astype('float32')\n",
    "x_test = x_test.astype('float32')\n",
    "x_train /= 255\n",
    "x_test /= 255\n",
    "\n",
    "# Convert class vectors to binary class matrices.\n",
    "y_train = keras.utils.to_categorical(y_train, num_classes)\n",
    "y_test = keras.utils.to_categorical(y_test, num_classes)"
   ]
  },
  {
   "cell_type": "code",
   "execution_count": null,
   "metadata": {},
   "outputs": [],
   "source": [
    "# Train\n",
    "\n",
    "from keras.callbacks import EarlyStopping\n",
    "\n",
    "history = student.fit(x_train, \n",
    "                      y_train,\n",
    "                      epochs=epochs,\n",
    "                      batch_size=batch_size,\n",
    "                      validation_data=(x_test, y_test),\n",
    "                      callbacks=[\n",
    "                            EarlyStopping(monitor='val_loss', patience=5, min_delta=0.005)\n",
    "                      ])"
   ]
  },
  {
   "cell_type": "code",
   "execution_count": null,
   "metadata": {},
   "outputs": [],
   "source": [
    "# Plot loss\n",
    "\n",
    "import matplotlib.pyplot as plt\n",
    "\n",
    "plt.plot(range(1, len(history.history['val_loss'])+1), history.history['val_loss'], label='val')\n",
    "plt.plot(range(1, len(history.history['loss'])+1), history.history['loss'], label='training')\n",
    "plt.title('Progression of loss on benchmark')\n",
    "plt.xlabel('epoch');\n",
    "plt.ylabel('hard logloss');\n",
    "plt.legend()\n",
    "plt.savefig('benchmark_logloss.png')"
   ]
  },
  {
   "cell_type": "code",
   "execution_count": null,
   "metadata": {},
   "outputs": [],
   "source": [
    "# Get overall acc\n",
    "results = student.evaluate(x_test, y_test)"
   ]
  },
  {
   "cell_type": "code",
   "execution_count": null,
   "metadata": {},
   "outputs": [],
   "source": [
    "student.summary()\n",
    "print('Errors: ', len(x_test) - results[1] * len(x_test))\n",
    "print('Accuracy: ', results[1]*100, '%')"
   ]
  },
  {
   "cell_type": "code",
   "execution_count": null,
   "metadata": {},
   "outputs": [],
   "source": [
    "student.save('models/cifar10_student.h5')"
   ]
  }
 ],
 "metadata": {
  "kernelspec": {
   "display_name": "Python 3",
   "language": "python",
   "name": "python3"
  },
  "language_info": {
   "codemirror_mode": {
    "name": "ipython",
    "version": 3
   },
   "file_extension": ".py",
   "mimetype": "text/x-python",
   "name": "python",
   "nbconvert_exporter": "python",
   "pygments_lexer": "ipython3",
   "version": "3.7.3"
  }
 },
 "nbformat": 4,
 "nbformat_minor": 4
}
