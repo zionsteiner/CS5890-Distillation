{
 "cells": [
  {
   "cell_type": "code",
   "execution_count": 1,
   "metadata": {},
   "outputs": [
    {
     "name": "stderr",
     "output_type": "stream",
     "text": [
      "Using TensorFlow backend.\n"
     ]
    }
   ],
   "source": [
    "# Imports\n",
    "\n",
    "import numpy as np\n",
    "import sys\n",
    "sys.path.append('Knowledge/utils/')\n",
    "import sklearn\n",
    "import os\n",
    "import keras\n",
    "from keras.preprocessing.image import ImageDataGenerator\n",
    "from keras.models import Sequential\n",
    "from keras.layers import Dense, Dropout, Activation, Flatten\n",
    "from keras.layers import Conv2D, MaxPooling2D\n",
    "import os\n",
    "import keras\n",
    "from keras import optimizers\n",
    "from keras.losses import categorical_crossentropy as logloss\n",
    "from keras.metrics import categorical_accuracy, top_k_categorical_accuracy\n",
    "from keras import backend as K\n",
    "\n",
    "\n",
    "\n",
    "# use non standard flow_from_directory\n",
    "from image_preprocessing_ver2 import ImageDataGenerator\n",
    "# it outputs y_batch that contains onehot targets and logits"
   ]
  },
  {
   "cell_type": "code",
   "execution_count": 2,
   "metadata": {},
   "outputs": [],
   "source": [
    "# Load logits saved from teacher\n",
    "\n",
    "data_dir = os.path.join(os.getcwd(), 'data')\n",
    "\n",
    "train_logits = np.load(os.path.join(data_dir, 'cifar10_train_logits.npy'), allow_pickle=True)[()]\n",
    "val_logits = np.load(os.path.join(data_dir, 'cifar10_val_logits.npy'), allow_pickle=True)[()]"
   ]
  },
  {
   "cell_type": "code",
   "execution_count": 3,
   "metadata": {},
   "outputs": [],
   "source": [
    "# Function to build and return student given dilation parameter\n",
    "\n",
    "from keras import models, layers\n",
    "from keras.initializers import lecun_normal\n",
    "\n",
    "num_classes = 10\n",
    "\n",
    "def build_student(dilation):\n",
    "    \n",
    "    if dilation > 1:\n",
    "        dilation = 1\n",
    "    if round(32 * dilation) == 0:\n",
    "        dilation = 1/32\n",
    "\n",
    "    initializer = lecun_normal(seed=0)\n",
    "\n",
    "    model = models.Sequential()\n",
    "    model.add(layers.Flatten(input_shape=(32, 32, 3)))\n",
    "    model.add(layers.Dense(int(round(dilation*256)), kernel_initializer=initializer))\n",
    "    model.add(layers.BatchNormalization())\n",
    "    model.add(layers.Activation('relu'))\n",
    "    model.add(layers.Dense(int(round(dilation*256)), kernel_initializer=initializer))\n",
    "    model.add(layers.BatchNormalization())\n",
    "    model.add(layers.Activation('relu'))\n",
    "    model.add(layers.Dense(10, kernel_initializer=initializer))\n",
    "    model.add(layers.Activation('softmax'))\n",
    "    \n",
    "    return model"
   ]
  },
  {
   "cell_type": "code",
   "execution_count": 4,
   "metadata": {},
   "outputs": [
    {
     "name": "stdout",
     "output_type": "stream",
     "text": [
      "Found 50000 images belonging to 10 classes.\n",
      "Found 10000 images belonging to 10 classes.\n"
     ]
    }
   ],
   "source": [
    "from keras.callbacks import ReduceLROnPlateau, EarlyStopping\n",
    "\n",
    "data_generator = ImageDataGenerator(data_format='channels_last', rescale=1/255)\n",
    "\n",
    "batch_size = 128\n",
    "epochs=75\n",
    "data_dir = r'C:\\Users\\ender\\Pictures\\data'\n",
    "train_generator = data_generator.flow_from_directory(os.path.join(data_dir, 'cifar10\\\\train'), train_logits, target_size=(32, 32), color_mode='rgb', batch_size=batch_size)\n",
    "val_generator = data_generator.flow_from_directory(os.path.join(data_dir, 'cifar10\\\\test'), val_logits, target_size=(32, 32), color_mode='rgb', batch_size=batch_size)\n",
    "\n",
    "def train_student(student):\n",
    "    student.compile(\n",
    "        optimizer='adam',\n",
    "        loss='categorical_crossentropy',\n",
    "        metrics=[accuracy])\n",
    "    \n",
    "    student.fit_generator(\n",
    "        train_generator,\n",
    "        epochs=epochs,\n",
    "        steps_per_epoch=50000/batch_size,\n",
    "        verbose=0,\n",
    "        validation_data=val_generator,\n",
    "        validation_steps=25,\n",
    "        callbacks=[\n",
    "                EarlyStopping(monitor='val_loss', patience=5, min_delta=0.005)\n",
    "            ]\n",
    "        )\n",
    "    return student"
   ]
  },
  {
   "cell_type": "code",
   "execution_count": 5,
   "metadata": {},
   "outputs": [],
   "source": [
    "# Distillation loss (soft targets and hard targets)\n",
    "\n",
    "from keras.losses import categorical_crossentropy as logloss\n",
    "from keras.metrics import categorical_accuracy, top_k_categorical_accuracy\n",
    "from keras import backend as K\n",
    "\n",
    "def distillation_loss(y_true, y_pred, hard_loss_weight, temp):\n",
    "    y_true, logits = y_true[:, :10], y_true[:, 10:]\n",
    "    \n",
    "    y_soft = K.softmax(logits / temp)\n",
    "    \n",
    "    y_pred, y_pred_soft = y_pred[:, :10], y_pred[:, 10:]\n",
    "    \n",
    "    return hard_loss_weight * logloss(y_true, y_pred) + logloss(y_soft, y_pred_soft)\n",
    "    "
   ]
  },
  {
   "cell_type": "code",
   "execution_count": 6,
   "metadata": {},
   "outputs": [
    {
     "name": "stdout",
     "output_type": "stream",
     "text": [
      "Found 10000 images belonging to 10 classes.\n"
     ]
    }
   ],
   "source": [
    "val_generator_no_shuffle = data_generator.flow_from_directory(\n",
    "    os.path.join(data_dir, 'cifar10\\\\test'), val_logits,\n",
    "    target_size=(32, 32),\n",
    "    batch_size=batch_size, color_mode='rgb', shuffle=False\n",
    ")"
   ]
  },
  {
   "cell_type": "code",
   "execution_count": 7,
   "metadata": {},
   "outputs": [],
   "source": [
    "def distill(dilation, temp, weight):\n",
    "    def accuracy(y_true, y_pred):\n",
    "        y_true = y_true[:, :10]\n",
    "        y_pred = y_pred[:, :10]\n",
    "        return categorical_accuracy(y_true, y_pred)\n",
    "\n",
    "    def top_5_accuracy(y_true, y_pred):\n",
    "        y_true = y_true[:, :10]\n",
    "        y_pred = y_pred[:, :10]\n",
    "        return top_k_categorical_accuracy(y_true, y_pred)\n",
    "\n",
    "    def categorical_crossentropy(y_true, y_pred):\n",
    "        y_true = y_true[:, :10]\n",
    "        y_pred = y_pred[:, :10]\n",
    "        return logloss(y_true, y_pred)\n",
    "\n",
    "    def soft_logloss(y_true, y_pred):     \n",
    "        logits = y_true[:, 10:]\n",
    "        y_soft = K.softmax(logits/temp)\n",
    "        y_pred_soft = y_pred[:, 10:]    \n",
    "        return logloss(y_soft, y_pred_soft)\n",
    "    \n",
    "    student = build_student(dilation)\n",
    "    # Remove softmax\n",
    "    student.pop()\n",
    "    # Get student logits and class probabilities\n",
    "    logits = student.layers[-1].output\n",
    "    probabilities = layers.Activation('softmax')(logits)\n",
    "\n",
    "    # Apply temperature to get softed probabilities\n",
    "    # Temps of 2.5-4 \"worked significantly better\" than other temps on networks with 30 units per layer\n",
    "    logits_T = layers.Lambda(lambda x: x / temp)(logits)\n",
    "    probabilities_T = layers.Activation('softmax')(logits_T)\n",
    "\n",
    "    from keras.optimizers import SGD, RMSprop\n",
    "\n",
    "    from keras.models import Model\n",
    "    output = layers.concatenate([probabilities, probabilities_T])\n",
    "    model = Model(student.input, output)\n",
    "    \n",
    "    model.compile(\n",
    "        optimizer='adam',\n",
    "        loss=lambda y_true, y_pred: distillation_loss(y_true, y_pred, weight, temp),\n",
    "        metrics=[accuracy, top_5_accuracy, categorical_crossentropy, soft_logloss])\n",
    "\n",
    "    from keras.callbacks import ReduceLROnPlateau, EarlyStopping\n",
    "    history = model.fit_generator(\n",
    "        train_generator,\n",
    "        epochs=25,\n",
    "        steps_per_epoch=50000/batch_size,\n",
    "        verbose=0,\n",
    "        validation_data=val_generator,\n",
    "        validation_steps=25,\n",
    "        callbacks=[\n",
    "                EarlyStopping(monitor='val_loss', patience=5, min_delta=0.005)\n",
    "            ])\n",
    "\n",
    "    results = model.evaluate_generator(val_generator_no_shuffle, 50000/batch_size)\n",
    "    return results, model"
   ]
  },
  {
   "cell_type": "code",
   "execution_count": 8,
   "metadata": {},
   "outputs": [],
   "source": [
    "# Load data for non-distilled training\n",
    "from keras.datasets import cifar10\n",
    "(x_train, y_train), (x_test, y_test) = cifar10.load_data()\n",
    "\n",
    "# Convert class vectors to binary class matrices.\n",
    "y_train = keras.utils.to_categorical(y_train, num_classes)\n",
    "y_test = keras.utils.to_categorical(y_test, num_classes)"
   ]
  },
  {
   "cell_type": "code",
   "execution_count": 9,
   "metadata": {},
   "outputs": [],
   "source": [
    "from keras.callbacks import ReduceLROnPlateau, EarlyStopping\n",
    "def train(dilation):\n",
    "    student = build_student(dilation)\n",
    "    student.compile(\n",
    "            optimizer='adam',\n",
    "            loss='categorical_crossentropy',\n",
    "            metrics=['accuracy'])\n",
    "    history = student.fit(\n",
    "        x_train,\n",
    "        y_train,\n",
    "        epochs=25,\n",
    "        verbose=0,\n",
    "        validation_data=(x_test, y_test),\n",
    "        callbacks=[\n",
    "                EarlyStopping(monitor='val_loss', patience=5, min_delta=0.005)\n",
    "            ])\n",
    "    results = student.evaluate(x_test, y_test)\n",
    "    return results"
   ]
  },
  {
   "cell_type": "code",
   "execution_count": 15,
   "metadata": {},
   "outputs": [
    {
     "name": "stdout",
     "output_type": "stream",
     "text": [
      "10000/10000 [==============================] - 1s 150us/step\n",
      "10000/10000 [==============================] - 2s 152us/step\n",
      "10000/10000 [==============================] - 2s 171us/step\n",
      "10000/10000 [==============================] - 2s 164us/step\n",
      "10000/10000 [==============================] - 2s 176us/step\n",
      "10000/10000 [==============================] - 2s 182us/step\n",
      "10000/10000 [==============================] - 2s 200us/step\n",
      "10000/10000 [==============================] - 2s 195us/step\n"
     ]
    }
   ],
   "source": [
    "dilation_accuracies = []\n",
    "reg_accuracies = []\n",
    "for dilation in np.linspace(0.125, 1, 8):\n",
    "    d_accuracy, model = distill(dilation, temp=25, weight=0.2)\n",
    "    dilation_accuracies.append((dilation, d_accuracy))\n",
    "    acc = train(dilation)\n",
    "    reg_accuracies.append((dilation, acc))\n",
    "dilation_accuracies = np.asarray(dilation_accuracies)\n",
    "reg_accuracies = np.asarray(reg_accuracies)\n",
    "np.save('data/dilation_accuracies.npy', dilation_accuracies)\n",
    "np.save('data/reg_accuracies.npy', reg_accuracies)"
   ]
  },
  {
   "cell_type": "code",
   "execution_count": 12,
   "metadata": {},
   "outputs": [
    {
     "ename": "KeyboardInterrupt",
     "evalue": "",
     "output_type": "error",
     "traceback": [
      "\u001b[1;31m---------------------------------------------------------------------------\u001b[0m",
      "\u001b[1;31mKeyboardInterrupt\u001b[0m                         Traceback (most recent call last)",
      "\u001b[1;32m<ipython-input-12-8398166fcc98>\u001b[0m in \u001b[0;36m<module>\u001b[1;34m\u001b[0m\n\u001b[0;32m      1\u001b[0m \u001b[0ma\u001b[0m \u001b[1;33m=\u001b[0m \u001b[1;33m[\u001b[0m\u001b[1;33m]\u001b[0m\u001b[1;33m\u001b[0m\u001b[1;33m\u001b[0m\u001b[0m\n\u001b[0;32m      2\u001b[0m \u001b[1;32mfor\u001b[0m \u001b[0mt\u001b[0m \u001b[1;32min\u001b[0m \u001b[1;33m[\u001b[0m\u001b[1;36m1\u001b[0m\u001b[1;33m,\u001b[0m \u001b[1;36m5\u001b[0m\u001b[1;33m,\u001b[0m \u001b[1;36m10\u001b[0m\u001b[1;33m,\u001b[0m \u001b[1;36m25\u001b[0m\u001b[1;33m,\u001b[0m \u001b[1;36m50\u001b[0m\u001b[1;33m,\u001b[0m \u001b[1;36m100\u001b[0m\u001b[1;33m]\u001b[0m\u001b[1;33m:\u001b[0m\u001b[1;33m\u001b[0m\u001b[1;33m\u001b[0m\u001b[0m\n\u001b[1;32m----> 3\u001b[1;33m     \u001b[0md_accuracy\u001b[0m\u001b[1;33m,\u001b[0m \u001b[0mmodel\u001b[0m \u001b[1;33m=\u001b[0m \u001b[0mdistill\u001b[0m\u001b[1;33m(\u001b[0m\u001b[1;36m0.5\u001b[0m\u001b[1;33m,\u001b[0m \u001b[0mt\u001b[0m\u001b[1;33m,\u001b[0m \u001b[1;36m0.07\u001b[0m\u001b[1;33m)\u001b[0m\u001b[1;33m\u001b[0m\u001b[1;33m\u001b[0m\u001b[0m\n\u001b[0m\u001b[0;32m      4\u001b[0m     \u001b[0ma\u001b[0m\u001b[1;33m.\u001b[0m\u001b[0mappend\u001b[0m\u001b[1;33m(\u001b[0m\u001b[1;33m(\u001b[0m\u001b[0mt\u001b[0m\u001b[1;33m,\u001b[0m \u001b[0md_accuracy\u001b[0m\u001b[1;33m)\u001b[0m\u001b[1;33m)\u001b[0m\u001b[1;33m\u001b[0m\u001b[1;33m\u001b[0m\u001b[0m\n",
      "\u001b[1;32m<ipython-input-7-972b17cf94d9>\u001b[0m in \u001b[0;36mdistill\u001b[1;34m(dilation, temp, weight)\u001b[0m\n\u001b[0;32m     53\u001b[0m         \u001b[0mvalidation_steps\u001b[0m\u001b[1;33m=\u001b[0m\u001b[1;36m25\u001b[0m\u001b[1;33m,\u001b[0m\u001b[1;33m\u001b[0m\u001b[1;33m\u001b[0m\u001b[0m\n\u001b[0;32m     54\u001b[0m         callbacks=[\n\u001b[1;32m---> 55\u001b[1;33m                 \u001b[0mEarlyStopping\u001b[0m\u001b[1;33m(\u001b[0m\u001b[0mmonitor\u001b[0m\u001b[1;33m=\u001b[0m\u001b[1;34m'val_loss'\u001b[0m\u001b[1;33m,\u001b[0m \u001b[0mpatience\u001b[0m\u001b[1;33m=\u001b[0m\u001b[1;36m5\u001b[0m\u001b[1;33m,\u001b[0m \u001b[0mmin_delta\u001b[0m\u001b[1;33m=\u001b[0m\u001b[1;36m0.005\u001b[0m\u001b[1;33m)\u001b[0m\u001b[1;33m\u001b[0m\u001b[1;33m\u001b[0m\u001b[0m\n\u001b[0m\u001b[0;32m     56\u001b[0m             ])\n\u001b[0;32m     57\u001b[0m \u001b[1;33m\u001b[0m\u001b[0m\n",
      "\u001b[1;32m~\\Anaconda3\\lib\\site-packages\\keras\\legacy\\interfaces.py\u001b[0m in \u001b[0;36mwrapper\u001b[1;34m(*args, **kwargs)\u001b[0m\n\u001b[0;32m     89\u001b[0m                 warnings.warn('Update your `' + object_name + '` call to the ' +\n\u001b[0;32m     90\u001b[0m                               'Keras 2 API: ' + signature, stacklevel=2)\n\u001b[1;32m---> 91\u001b[1;33m             \u001b[1;32mreturn\u001b[0m \u001b[0mfunc\u001b[0m\u001b[1;33m(\u001b[0m\u001b[1;33m*\u001b[0m\u001b[0margs\u001b[0m\u001b[1;33m,\u001b[0m \u001b[1;33m**\u001b[0m\u001b[0mkwargs\u001b[0m\u001b[1;33m)\u001b[0m\u001b[1;33m\u001b[0m\u001b[1;33m\u001b[0m\u001b[0m\n\u001b[0m\u001b[0;32m     92\u001b[0m         \u001b[0mwrapper\u001b[0m\u001b[1;33m.\u001b[0m\u001b[0m_original_function\u001b[0m \u001b[1;33m=\u001b[0m \u001b[0mfunc\u001b[0m\u001b[1;33m\u001b[0m\u001b[1;33m\u001b[0m\u001b[0m\n\u001b[0;32m     93\u001b[0m         \u001b[1;32mreturn\u001b[0m \u001b[0mwrapper\u001b[0m\u001b[1;33m\u001b[0m\u001b[1;33m\u001b[0m\u001b[0m\n",
      "\u001b[1;32m~\\Anaconda3\\lib\\site-packages\\keras\\engine\\training.py\u001b[0m in \u001b[0;36mfit_generator\u001b[1;34m(self, generator, steps_per_epoch, epochs, verbose, callbacks, validation_data, validation_steps, validation_freq, class_weight, max_queue_size, workers, use_multiprocessing, shuffle, initial_epoch)\u001b[0m\n\u001b[0;32m   1730\u001b[0m             \u001b[0muse_multiprocessing\u001b[0m\u001b[1;33m=\u001b[0m\u001b[0muse_multiprocessing\u001b[0m\u001b[1;33m,\u001b[0m\u001b[1;33m\u001b[0m\u001b[1;33m\u001b[0m\u001b[0m\n\u001b[0;32m   1731\u001b[0m             \u001b[0mshuffle\u001b[0m\u001b[1;33m=\u001b[0m\u001b[0mshuffle\u001b[0m\u001b[1;33m,\u001b[0m\u001b[1;33m\u001b[0m\u001b[1;33m\u001b[0m\u001b[0m\n\u001b[1;32m-> 1732\u001b[1;33m             initial_epoch=initial_epoch)\n\u001b[0m\u001b[0;32m   1733\u001b[0m \u001b[1;33m\u001b[0m\u001b[0m\n\u001b[0;32m   1734\u001b[0m     \u001b[1;33m@\u001b[0m\u001b[0minterfaces\u001b[0m\u001b[1;33m.\u001b[0m\u001b[0mlegacy_generator_methods_support\u001b[0m\u001b[1;33m\u001b[0m\u001b[1;33m\u001b[0m\u001b[0m\n",
      "\u001b[1;32m~\\Anaconda3\\lib\\site-packages\\keras\\engine\\training_generator.py\u001b[0m in \u001b[0;36mfit_generator\u001b[1;34m(model, generator, steps_per_epoch, epochs, verbose, callbacks, validation_data, validation_steps, validation_freq, class_weight, max_queue_size, workers, use_multiprocessing, shuffle, initial_epoch)\u001b[0m\n\u001b[0;32m    218\u001b[0m                                             \u001b[0msample_weight\u001b[0m\u001b[1;33m=\u001b[0m\u001b[0msample_weight\u001b[0m\u001b[1;33m,\u001b[0m\u001b[1;33m\u001b[0m\u001b[1;33m\u001b[0m\u001b[0m\n\u001b[0;32m    219\u001b[0m                                             \u001b[0mclass_weight\u001b[0m\u001b[1;33m=\u001b[0m\u001b[0mclass_weight\u001b[0m\u001b[1;33m,\u001b[0m\u001b[1;33m\u001b[0m\u001b[1;33m\u001b[0m\u001b[0m\n\u001b[1;32m--> 220\u001b[1;33m                                             reset_metrics=False)\n\u001b[0m\u001b[0;32m    221\u001b[0m \u001b[1;33m\u001b[0m\u001b[0m\n\u001b[0;32m    222\u001b[0m                 \u001b[0mouts\u001b[0m \u001b[1;33m=\u001b[0m \u001b[0mto_list\u001b[0m\u001b[1;33m(\u001b[0m\u001b[0mouts\u001b[0m\u001b[1;33m)\u001b[0m\u001b[1;33m\u001b[0m\u001b[1;33m\u001b[0m\u001b[0m\n",
      "\u001b[1;32m~\\Anaconda3\\lib\\site-packages\\keras\\engine\\training.py\u001b[0m in \u001b[0;36mtrain_on_batch\u001b[1;34m(self, x, y, sample_weight, class_weight, reset_metrics)\u001b[0m\n\u001b[0;32m   1512\u001b[0m             \u001b[0mins\u001b[0m \u001b[1;33m=\u001b[0m \u001b[0mx\u001b[0m \u001b[1;33m+\u001b[0m \u001b[0my\u001b[0m \u001b[1;33m+\u001b[0m \u001b[0msample_weights\u001b[0m\u001b[1;33m\u001b[0m\u001b[1;33m\u001b[0m\u001b[0m\n\u001b[0;32m   1513\u001b[0m         \u001b[0mself\u001b[0m\u001b[1;33m.\u001b[0m\u001b[0m_make_train_function\u001b[0m\u001b[1;33m(\u001b[0m\u001b[1;33m)\u001b[0m\u001b[1;33m\u001b[0m\u001b[1;33m\u001b[0m\u001b[0m\n\u001b[1;32m-> 1514\u001b[1;33m         \u001b[0moutputs\u001b[0m \u001b[1;33m=\u001b[0m \u001b[0mself\u001b[0m\u001b[1;33m.\u001b[0m\u001b[0mtrain_function\u001b[0m\u001b[1;33m(\u001b[0m\u001b[0mins\u001b[0m\u001b[1;33m)\u001b[0m\u001b[1;33m\u001b[0m\u001b[1;33m\u001b[0m\u001b[0m\n\u001b[0m\u001b[0;32m   1515\u001b[0m \u001b[1;33m\u001b[0m\u001b[0m\n\u001b[0;32m   1516\u001b[0m         \u001b[1;32mif\u001b[0m \u001b[0mreset_metrics\u001b[0m\u001b[1;33m:\u001b[0m\u001b[1;33m\u001b[0m\u001b[1;33m\u001b[0m\u001b[0m\n",
      "\u001b[1;32m~\\Anaconda3\\lib\\site-packages\\tensorflow\\python\\keras\\backend.py\u001b[0m in \u001b[0;36m__call__\u001b[1;34m(self, inputs)\u001b[0m\n\u001b[0;32m   3290\u001b[0m \u001b[1;33m\u001b[0m\u001b[0m\n\u001b[0;32m   3291\u001b[0m     fetched = self._callable_fn(*array_vals,\n\u001b[1;32m-> 3292\u001b[1;33m                                 run_metadata=self.run_metadata)\n\u001b[0m\u001b[0;32m   3293\u001b[0m     \u001b[0mself\u001b[0m\u001b[1;33m.\u001b[0m\u001b[0m_call_fetch_callbacks\u001b[0m\u001b[1;33m(\u001b[0m\u001b[0mfetched\u001b[0m\u001b[1;33m[\u001b[0m\u001b[1;33m-\u001b[0m\u001b[0mlen\u001b[0m\u001b[1;33m(\u001b[0m\u001b[0mself\u001b[0m\u001b[1;33m.\u001b[0m\u001b[0m_fetches\u001b[0m\u001b[1;33m)\u001b[0m\u001b[1;33m:\u001b[0m\u001b[1;33m]\u001b[0m\u001b[1;33m)\u001b[0m\u001b[1;33m\u001b[0m\u001b[1;33m\u001b[0m\u001b[0m\n\u001b[0;32m   3294\u001b[0m     output_structure = nest.pack_sequence_as(\n",
      "\u001b[1;32m~\\Anaconda3\\lib\\site-packages\\tensorflow\\python\\client\\session.py\u001b[0m in \u001b[0;36m__call__\u001b[1;34m(self, *args, **kwargs)\u001b[0m\n\u001b[0;32m   1456\u001b[0m         ret = tf_session.TF_SessionRunCallable(self._session._session,\n\u001b[0;32m   1457\u001b[0m                                                \u001b[0mself\u001b[0m\u001b[1;33m.\u001b[0m\u001b[0m_handle\u001b[0m\u001b[1;33m,\u001b[0m \u001b[0margs\u001b[0m\u001b[1;33m,\u001b[0m\u001b[1;33m\u001b[0m\u001b[1;33m\u001b[0m\u001b[0m\n\u001b[1;32m-> 1458\u001b[1;33m                                                run_metadata_ptr)\n\u001b[0m\u001b[0;32m   1459\u001b[0m         \u001b[1;32mif\u001b[0m \u001b[0mrun_metadata\u001b[0m\u001b[1;33m:\u001b[0m\u001b[1;33m\u001b[0m\u001b[1;33m\u001b[0m\u001b[0m\n\u001b[0;32m   1460\u001b[0m           \u001b[0mproto_data\u001b[0m \u001b[1;33m=\u001b[0m \u001b[0mtf_session\u001b[0m\u001b[1;33m.\u001b[0m\u001b[0mTF_GetBuffer\u001b[0m\u001b[1;33m(\u001b[0m\u001b[0mrun_metadata_ptr\u001b[0m\u001b[1;33m)\u001b[0m\u001b[1;33m\u001b[0m\u001b[1;33m\u001b[0m\u001b[0m\n",
      "\u001b[1;31mKeyboardInterrupt\u001b[0m: "
     ]
    }
   ],
   "source": [
    "a = []\n",
    "for t in [1, 5, 10, 25, 50, 100]:\n",
    "    d_accuracy, model = distill(0.5, t, 0.07)\n",
    "    a.append((t, d_accuracy))"
   ]
  },
  {
   "cell_type": "code",
   "execution_count": 11,
   "metadata": {},
   "outputs": [
    {
     "data": {
      "text/plain": [
       "[1.2077606916427612,\n",
       " 0.3610685467720032,\n",
       " 0.934415340423584,\n",
       " 9.437540054321289,\n",
       " 1.207494854927063]"
      ]
     },
     "execution_count": 11,
     "metadata": {},
     "output_type": "execute_result"
    }
   ],
   "source": [
    "d_accuracy"
   ]
  },
  {
   "cell_type": "code",
   "execution_count": 16,
   "metadata": {},
   "outputs": [
    {
     "data": {
      "image/png": "[encoded data removed]",
      "text/plain": [
       "<Figure size 432x288 with 1 Axes>"
      ]
     },
     "metadata": {
      "needs_background": "light"
     },
     "output_type": "display_data"
    }
   ],
   "source": [
    "import matplotlib.pyplot as plt\n",
    "import numpy as np\n",
    "\n",
    "d_accuracies = np.load('data/dilation_accuracies.npy', allow_pickle=True)\n",
    "dilation_x = d_accuracies[:, 0]\n",
    "dilation_y = list(map(lambda x: x[1][1], d_accuracies))\n",
    "\n",
    "reg_accuracies = np.load('data/reg_accuracies.npy', allow_pickle=True)\n",
    "reg_x = reg_accuracies[:, 0]\n",
    "reg_y = list(map(lambda x: x[1][1], reg_accuracies))\n",
    "\n",
    "plt.plot(dilation_x, dilation_y, label='Distilled')\n",
    "plt.plot(reg_x, reg_y, label='Benchmark')\n",
    "plt.title('Dilation vs Accuracy')\n",
    "# for i, temp in enumerate(weight_accuracies):\n",
    "#     plt.annotate(f'({weight_accuracies[i, 0]}, {accuracies[i]:.2f})', (weight_accuracies[i, 0], accuracies[i]))\n",
    "plt.xlabel('Dilation')\n",
    "plt.ylabel('Accuracy')\n",
    "plt.legend()\n",
    "plt.xticks(np.linspace(0, 1, 9))\n",
    "plt.savefig('cifar2_dilation_v_accuracy.png')"
   ]
  }
 ],
 "metadata": {
  "kernelspec": {
   "display_name": "Python 3",
   "language": "python",
   "name": "python3"
  },
  "language_info": {
   "codemirror_mode": {
    "name": "ipython",
    "version": 3
   },
   "file_extension": ".py",
   "mimetype": "text/x-python",
   "name": "python",
   "nbconvert_exporter": "python",
   "pygments_lexer": "ipython3",
   "version": "3.7.3"
  }
 },
 "nbformat": 4,
 "nbformat_minor": 4
}
