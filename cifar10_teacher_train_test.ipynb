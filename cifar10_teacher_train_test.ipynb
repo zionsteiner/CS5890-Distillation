{
 "cells": [
  {
   "cell_type": "code",
   "execution_count": null,
   "metadata": {},
   "outputs": [],
   "source": [
    "import keras\n",
    "from keras.datasets import cifar10\n",
    "from keras.preprocessing.image import ImageDataGenerator\n",
    "from keras.models import Sequential\n",
    "from keras.layers import Dense, Dropout, Activation, Flatten, BatchNormalization\n",
    "from keras.layers import Conv2D, MaxPooling2D\n",
    "import os"
   ]
  },
  {
   "cell_type": "code",
   "execution_count": null,
   "metadata": {},
   "outputs": [],
   "source": [
    "batch_size = 128\n",
    "num_classes = 10\n",
    "epochs = 75"
   ]
  },
  {
   "cell_type": "code",
   "execution_count": null,
   "metadata": {},
   "outputs": [],
   "source": [
    "# The data, split between train and test sets:\n",
    "(x_train, y_train), (x_test, y_test) = cifar10.load_data()\n",
    "print('x_train shape:', x_train.shape)\n",
    "print(x_train.shape[0], 'train samples')\n",
    "print(x_test.shape[0], 'test samples')"
   ]
  },
  {
   "cell_type": "code",
   "execution_count": null,
   "metadata": {},
   "outputs": [],
   "source": [
    "# Define teacher model\n",
    "\n",
    "from keras.initializers import lecun_normal\n",
    "from keras import models, layers\n",
    "\n",
    "def build_teacher():\n",
    "    initializer = lecun_normal(seed=1)\n",
    "    \n",
    "    teacher = Sequential()\n",
    "    teacher.add(Conv2D(32, (3, 3),\n",
    "                input_shape=x_train.shape[1:],\n",
    "                kernel_initializer=initializer))\n",
    "    teacher.add(Activation('relu'))\n",
    "    teacher.add(MaxPooling2D(pool_size=(2, 2)))\n",
    "\n",
    "    teacher.add(Conv2D(64, (3, 3),\n",
    "                       kernel_initializer=initializer))\n",
    "    teacher.add(Activation('relu'))\n",
    "    teacher.add(MaxPooling2D(pool_size=(2, 2)))\n",
    "\n",
    "    teacher.add(Flatten())\n",
    "    teacher.add(Dense(256, kernel_initializer=initializer))\n",
    "    teacher.add(Activation('relu'))\n",
    "    teacher.add(Dense(num_classes, kernel_initializer=initializer))\n",
    "    teacher.add(Activation('softmax'))\n",
    "    \n",
    "    return teacher"
   ]
  },
  {
   "cell_type": "code",
   "execution_count": null,
   "metadata": {},
   "outputs": [],
   "source": [
    "# Compile and config data augmentation\n",
    "\n",
    "teacher = build_teacher()\n",
    "\n",
    "teacher.compile(loss='categorical_crossentropy',\n",
    "                optimizer='adam',\n",
    "                metrics=['accuracy'])\n",
    "\n",
    "\n",
    "datagen = ImageDataGenerator(\n",
    "    rescale=1./255,\n",
    "    featurewise_center=False,  # set input mean to 0 over the dataset\n",
    "    samplewise_center=False,  # set each sample mean to 0\n",
    "    featurewise_std_normalization=False,  # divide inputs by std of the dataset\n",
    "    samplewise_std_normalization=False,  # divide each input by its std\n",
    "    zca_whitening=False,  # apply ZCA whitening\n",
    "    zca_epsilon=1e-06,  # epsilon for ZCA whitening\n",
    "    rotation_range=0,  # randomly rotate images in the range (degrees, 0 to 180)\n",
    "    # randomly shift images horizontally (fraction of total width)\n",
    "    width_shift_range=0.1,\n",
    "    # randomly shift images vertically (fraction of total height)\n",
    "    height_shift_range=0.1,\n",
    "    shear_range=0.,  # set range for random shear\n",
    "    zoom_range=0.,  # set range for random zoom\n",
    "    channel_shift_range=0.,  # set range for random channel shifts\n",
    "    # set mode for filling points outside the input boundaries\n",
    "    fill_mode='nearest',\n",
    "    cval=0.,  # value used for fill_mode = \"constant\"\n",
    "    horizontal_flip=True,  # randomly flip images\n",
    "    vertical_flip=False,  # randomly flip images\n",
    "    # set function that will be applied on each input\n",
    "    preprocessing_function=None,\n",
    "    # image data format, either \"channels_first\" or \"channels_last\"\n",
    "    data_format='channels_last',\n",
    "    # fraction of images reserved for validation (strictly between 0 and 1)\n",
    "    validation_split=0.0)\n",
    "\n",
    "# Convert class vectors to binary class matrices.\n",
    "y_train = keras.utils.to_categorical(y_train, num_classes)\n",
    "y_test = keras.utils.to_categorical(y_test, num_classes)"
   ]
  },
  {
   "cell_type": "code",
   "execution_count": null,
   "metadata": {},
   "outputs": [],
   "source": [
    "# Train\n",
    "\n",
    "from keras.callbacks import ReduceLROnPlateau, EarlyStopping\n",
    "\n",
    "datagen.fit(x_train)\n",
    "history = teacher.fit_generator(datagen.flow(x_train, y_train, batch_size=batch_size),\n",
    "                                  epochs=epochs,\n",
    "                                  validation_data=(x_test, y_test),\n",
    "                                  callbacks=[\n",
    "                                        EarlyStopping(monitor='val_loss', patience=5, min_delta=0.005)\n",
    "                                    ])"
   ]
  },
  {
   "cell_type": "code",
   "execution_count": null,
   "metadata": {},
   "outputs": [],
   "source": [
    "# Plot loss\n",
    "\n",
    "import matplotlib.pyplot as plt\n",
    "\n",
    "plt.plot(range(1, len(history.history['val_loss'])+1), history.history['val_loss'], label='val')\n",
    "plt.plot(range(1, len(history.history['loss'])+1), history.history['loss'], label='training')\n",
    "plt.title('Progression of loss on benchmark')\n",
    "plt.xlabel('epoch');\n",
    "plt.ylabel('hard logloss');\n",
    "plt.legend()\n",
    "plt.savefig('benchmark_logloss.png')"
   ]
  },
  {
   "cell_type": "code",
   "execution_count": null,
   "metadata": {},
   "outputs": [],
   "source": [
    "results = teacher.evaluate(x_test, y_test)"
   ]
  },
  {
   "cell_type": "code",
   "execution_count": null,
   "metadata": {},
   "outputs": [],
   "source": [
    "teacher.summary()"
   ]
  },
  {
   "cell_type": "code",
   "execution_count": null,
   "metadata": {},
   "outputs": [],
   "source": [
    "print('Errors: ', len(x_test) - results[1] * len(x_test))\n",
    "print('Accuracy: ', results[1]*100, '%')"
   ]
  },
  {
   "cell_type": "code",
   "execution_count": null,
   "metadata": {},
   "outputs": [],
   "source": [
    "teacher.save('models/cifar10_teacher.h5')"
   ]
  }
 ],
 "metadata": {
  "kernelspec": {
   "display_name": "Python 3",
   "language": "python",
   "name": "python3"
  },
  "language_info": {
   "codemirror_mode": {
    "name": "ipython",
    "version": 3
   },
   "file_extension": ".py",
   "mimetype": "text/x-python",
   "name": "python",
   "nbconvert_exporter": "python",
   "pygments_lexer": "ipython3",
   "version": "3.7.3"
  }
 },
 "nbformat": 4,
 "nbformat_minor": 4
}
