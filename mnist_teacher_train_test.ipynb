{
 "cells": [
  {
   "cell_type": "code",
   "execution_count": null,
   "metadata": {},
   "outputs": [],
   "source": [
    "from keras.datasets import mnist\n",
    "\n",
    "(x_train, y_train), (x_test, y_test) = mnist.load_data()"
   ]
  },
  {
   "cell_type": "code",
   "execution_count": null,
   "metadata": {},
   "outputs": [],
   "source": [
    "from keras.utils import to_categorical\n",
    "\n",
    "x_train = x_train.reshape(x_train.shape + (1,))\n",
    "x_test = x_test.reshape(x_test.shape + (1,))\n",
    "\n",
    "y_train = to_categorical(y_train)\n",
    "y_test = to_categorical(y_test)"
   ]
  },
  {
   "cell_type": "code",
   "execution_count": null,
   "metadata": {},
   "outputs": [],
   "source": [
    "from keras.preprocessing.image import ImageDataGenerator\n",
    "\n",
    "train_datagen = ImageDataGenerator(rescale=1./255,\n",
    "                                   width_shift_range=2,\n",
    "                                   height_shift_range=2)\n",
    "val_datagen = ImageDataGenerator(rescale=1./255)\n",
    "\n",
    "train_gen = train_datagen.flow(x_train, y_train, batch_size=50)\n",
    "val_gen = val_datagen.flow(x_test, y_test, batch_size=50)"
   ]
  },
  {
   "cell_type": "code",
   "execution_count": null,
   "metadata": {},
   "outputs": [],
   "source": [
    "from keras import models, layers\n",
    "from keras.constraints import MaxNorm\n",
    "from keras.initializers import TruncatedNormal\n",
    "\n",
    "def build_teacher(max_norm=1):\n",
    "    max_norm = MaxNorm(max_norm)\n",
    "    initializer = TruncatedNormal(mean=0, stddev=0.01)\n",
    "\n",
    "    model = models.Sequential()\n",
    "    model.add(layers.Flatten(input_shape=(28, 28, 1)))\n",
    "    model.add(layers.Dropout(0.2))\n",
    "    model.add(layers.Dense(128, activation='relu', kernel_constraint=max_norm, kernel_initializer=initializer))\n",
    "    model.add(layers.Dropout(0.5))\n",
    "    model.add(layers.Dense(128, activation='relu', kernel_constraint=max_norm, kernel_initializer=initializer))\n",
    "    model.add(layers.Dropout(0.5))\n",
    "    model.add(layers.Dense(10, kernel_initializer=initializer))\n",
    "    model.add(layers.Activation('softmax'))\n",
    "    \n",
    "    return model"
   ]
  },
  {
   "cell_type": "code",
   "execution_count": null,
   "metadata": {},
   "outputs": [],
   "source": [
    "# Custom callback to modify momentum during training\n",
    "from keras.callbacks import Callback\n",
    "import keras.backend as K\n",
    "import numpy as np\n",
    "\n",
    "class MomentumScheduler(Callback):\n",
    "    \"\"\"Momentum scheduler.\n",
    "    # Arguments\n",
    "        schedule: a function that takes an epoch index as input\n",
    "            (integer, indexed from 0) and current momentum\n",
    "            and returns a new momentum as output (float).\n",
    "        verbose: int. 0: quiet, 1: update messages.\n",
    "    \"\"\"\n",
    "\n",
    "    def __init__(self, schedule, verbose=0):\n",
    "        super(MomentumScheduler, self).__init__()\n",
    "        self.schedule = schedule\n",
    "        self.verbose = verbose\n",
    "\n",
    "    def on_epoch_begin(self, epoch, logs=None):\n",
    "        if not hasattr(self.model.optimizer, 'momentum'):\n",
    "            raise ValueError('Optimizer must have a \"momentum\" attribute.')\n",
    "        momentum = float(K.get_value(self.model.optimizer.momentum))\n",
    "        try:  # new API\n",
    "            momentum = self.schedule(epoch, momentum)\n",
    "        except TypeError:  # old API for backward compatibility\n",
    "            momentum = self.schedule(epoch)\n",
    "        if not isinstance(momentum, (float, np.float32, np.float64)):\n",
    "            raise ValueError('The output of the \"schedule\" function '\n",
    "                             'should be float.')\n",
    "        K.set_value(self.model.optimizer.momentum, momentum)\n",
    "        if self.verbose > 0:\n",
    "            print('\\nEpoch %05d: MomentumScheduler setting momentum '\n",
    "                  'to %s.' % (epoch + 1, momentum))\n",
    "\n",
    "    def on_epoch_end(self, epoch, logs=None):\n",
    "        logs = logs or {}\n",
    "        logs['momentum'] = K.get_value(self.model.optimizer.momentum)\n",
    "        \n",
    "        \n",
    "        \n",
    "def m_scheduler(epoch, momentum):\n",
    "    max_momentum = 0.99\n",
    "    increase = (max_momentum - 0.5) / 500\n",
    "    if epoch < 500:\n",
    "        return momentum + increase\n",
    "    else:\n",
    "        return max_momentum"
   ]
  },
  {
   "cell_type": "code",
   "execution_count": null,
   "metadata": {},
   "outputs": [],
   "source": [
    "class LRScheduler(Callback):\n",
    "    \"\"\"LR scheduler.\n",
    "    # Arguments\n",
    "        schedule: a function that takes an epoch index as input\n",
    "            (integer, indexed from 0) and current lr\n",
    "            and returns a new momenutm as output (float).\n",
    "        verbose: int. 0: quiet, 1: update messages.\n",
    "    \"\"\"\n",
    "\n",
    "    def __init__(self, schedule, verbose=0):\n",
    "        super(LRScheduler, self).__init__()\n",
    "        self.schedule = schedule\n",
    "        self.verbose = verbose\n",
    "\n",
    "    def on_epoch_begin(self, epoch, logs=None):\n",
    "        if not hasattr(self.model.optimizer, 'lr'):\n",
    "            raise ValueError('Optimizer must have a \"lr\" attribute.')\n",
    "        lr = float(K.get_value(self.model.optimizer.lr))\n",
    "        m = float(K.get_value(self.model.optimizer.momentum))\n",
    "        try:  # new API\n",
    "            lr = self.schedule(epoch, lr, m)\n",
    "        except TypeError:  # old API for backward compatibility\n",
    "            lr = self.schedule(epoch)\n",
    "        if not isinstance(lr, (float, np.float32, np.float64)):\n",
    "            raise ValueError('The output of the \"schedule\" function '\n",
    "                             'should be float.')\n",
    "        K.set_value(self.model.optimizer.lr, lr)\n",
    "        if self.verbose > 0:\n",
    "            print('\\nEpoch %05d: LRScheduler setting lr '\n",
    "                  'to %s.' % (epoch + 1, lr * 0.998**epoch))\n",
    "\n",
    "    def on_epoch_end(self, epoch, logs=None):\n",
    "        logs = logs or {}\n",
    "        logs['lr'] = K.get_value(self.model.optimizer.lr)\n",
    "        \n",
    "        \n",
    "def lr_scheduler(epoch, lr, m):\n",
    "    if epoch < 500:\n",
    "        m_0 = 0.5 + ((0.99 - 0.5) / 500) * (epoch - 1)\n",
    "    else:\n",
    "        m_0 = 0.99\n",
    "        \n",
    "    if epoch >= 1:    \n",
    "        lr /= (1- m_0)\n",
    "        lr *= (1 - m)\n",
    "    else:\n",
    "        lr *= (1-m)\n",
    "    \n",
    "    return lr"
   ]
  },
  {
   "cell_type": "code",
   "execution_count": null,
   "metadata": {},
   "outputs": [],
   "source": [
    "change_m = MomentumScheduler(m_scheduler, verbose=1)\n",
    "lrs = LRScheduler(lr_scheduler, verbose=1)"
   ]
  },
  {
   "cell_type": "code",
   "execution_count": null,
   "metadata": {},
   "outputs": [],
   "source": [
    "from keras.optimizers import SGD\n",
    "\n",
    "sgd = SGD(lr=10, decay=0.002, momentum=0.5)\n",
    "\n",
    "epochs = 30\n",
    "batch_size = 50\n",
    "steps_per_epoch = len(x_train) / batch_size\n",
    "\n",
    "max_norm = 15\n",
    "\n",
    "teacher = build_teacher(max_norm)\n",
    "\n",
    "teacher.compile(loss='categorical_crossentropy',\n",
    "           optimizer='adam',\n",
    "           metrics=['acc'])\n",
    "\n",
    "history = teacher.fit_generator(train_gen,\n",
    "                      epochs=epochs,\n",
    "                      steps_per_epoch=steps_per_epoch,\n",
    "                      validation_data=val_gen)\n",
    "\n",
    "res = teacher.evaluate_generator(val_gen)\n",
    "errors = len(y_test) - res[1] * len(y_test)\n",
    "print('Errors: ', errors)"
   ]
  },
  {
   "cell_type": "code",
   "execution_count": null,
   "metadata": {},
   "outputs": [],
   "source": [
    "res = teacher.evaluate_generator(val_gen)\n",
    "errors = len(y_test) - res[1] * len(y_test)\n",
    "print('Errors: ', errresors)"
   ]
  },
  {
   "cell_type": "code",
   "execution_count": null,
   "metadata": {},
   "outputs": [],
   "source": [
    "res"
   ]
  },
  {
   "cell_type": "code",
   "execution_count": null,
   "metadata": {},
   "outputs": [],
   "source": [
    "import matplotlib.pyplot as plt\n",
    "\n",
    "history_dict = history.history\n",
    "loss_values = history_dict['loss']\n",
    "val_loss_values = history_dict['val_loss']\n",
    "\n",
    "epochs = range(1, len(loss_values) + 1)\n",
    "\n",
    "plt.plot(epochs, loss_values, 'bo', label='Training loss')\n",
    "plt.plot(epochs, val_loss_values, 'b', label='Validation loss')\n",
    "plt.title('Training and validation loss')\n",
    "plt.xlabel('Epochs')\n",
    "plt.ylabel('Loss')\n",
    "plt.legend()\n",
    "\n",
    "plt.show()"
   ]
  },
  {
   "cell_type": "code",
   "execution_count": null,
   "metadata": {},
   "outputs": [],
   "source": [
    "plt.clf()\n",
    "acc_values = history_dict['acc']\n",
    "val_acc_values = history_dict['val_acc']\n",
    "\n",
    "plt.plot(epochs, acc_values, 'bo', label='Training acc')\n",
    "plt.plot(epochs, val_acc_values, 'b', label='Valication acc')\n",
    "plt.title('Training and validation accuracy')\n",
    "plt.xlabel('Epochs')\n",
    "plt.ylabel('Accuracy')\n",
    "plt.legend()\n",
    "\n",
    "plt.show()"
   ]
  },
  {
   "cell_type": "code",
   "execution_count": null,
   "metadata": {},
   "outputs": [],
   "source": [
    "teacher.save('mnist_teacher.h5')"
   ]
  },
  {
   "cell_type": "code",
   "execution_count": null,
   "metadata": {},
   "outputs": [],
   "source": [
    "teacher.summary()"
   ]
  },
  {
   "cell_type": "code",
   "execution_count": null,
   "metadata": {},
   "outputs": [],
   "source": []
  }
 ],
 "metadata": {
  "kernelspec": {
   "display_name": "Python 3",
   "language": "python",
   "name": "python3"
  },
  "language_info": {
   "codemirror_mode": {
    "name": "ipython",
    "version": 3
   },
   "file_extension": ".py",
   "mimetype": "text/x-python",
   "name": "python",
   "nbconvert_exporter": "python",
   "pygments_lexer": "ipython3",
   "version": "3.7.3"
  }
 },
 "nbformat": 4,
 "nbformat_minor": 4
}
