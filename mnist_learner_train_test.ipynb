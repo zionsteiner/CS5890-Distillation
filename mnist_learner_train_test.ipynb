{
 "cells": [
  {
   "cell_type": "code",
   "execution_count": 1,
   "metadata": {},
   "outputs": [
    {
     "name": "stderr",
     "output_type": "stream",
     "text": [
      "Using TensorFlow backend.\n"
     ]
    }
   ],
   "source": [
    "from keras.datasets import mnist\n",
    "\n",
    "(x_train, y_train), (x_test, y_test) = mnist.load_data()"
   ]
  },
  {
   "cell_type": "code",
   "execution_count": 2,
   "metadata": {},
   "outputs": [],
   "source": [
    "from keras.utils import to_categorical\n",
    "\n",
    "x_train = x_train.reshape(x_train.shape + (1,))\n",
    "x_test = x_test.reshape(x_test.shape + (1,))\n",
    "\n",
    "y_train = to_categorical(y_train)\n",
    "y_test = to_categorical(y_test)"
   ]
  },
  {
   "cell_type": "code",
   "execution_count": 3,
   "metadata": {},
   "outputs": [],
   "source": [
    "from keras.preprocessing.image import ImageDataGenerator\n",
    "\n",
    "train_datagen = ImageDataGenerator(rescale=1./255)\n",
    "val_datagen = ImageDataGenerator(rescale=1./255)\n",
    "\n",
    "train_gen = train_datagen.flow(x_train, y_train, batch_size=32)\n",
    "val_gen = val_datagen.flow(x_test, y_test, batch_size=32)"
   ]
  },
  {
   "cell_type": "code",
   "execution_count": 4,
   "metadata": {},
   "outputs": [],
   "source": [
    "from keras import models, layers, optimizers\n",
    "\n",
    "student = models.Sequential()\n",
    "student.add(layers.Flatten(input_shape=(28, 28, 1)))\n",
    "student.add(layers.Dense(32, activation='relu'))\n",
    "student.add(layers.Dense(32, activation='relu'))\n",
    "student.add(layers.Dense(10))\n",
    "student.add(layers.Activation('softmax'))"
   ]
  },
  {
   "cell_type": "code",
   "execution_count": 12,
   "metadata": {},
   "outputs": [],
   "source": [
    "student.compile(loss='categorical_crossentropy',\n",
    "                optimizer='adam',\n",
    "                metrics=['acc'])"
   ]
  },
  {
   "cell_type": "code",
   "execution_count": 13,
   "metadata": {},
   "outputs": [
    {
     "name": "stdout",
     "output_type": "stream",
     "text": [
      "Train on 60000 samples, validate on 10000 samples\n",
      "Epoch 1/35\n",
      "60000/60000 [==============================] - 9s 144us/step - loss: 0.3234 - acc: 0.9123 - val_loss: 0.3158 - val_acc: 0.9180\n",
      "Epoch 2/35\n",
      "60000/60000 [==============================] - 8s 136us/step - loss: 0.2819 - acc: 0.9216 - val_loss: 0.2739 - val_acc: 0.9272\n",
      "Epoch 3/35\n",
      "60000/60000 [==============================] - 9s 148us/step - loss: 0.2640 - acc: 0.9270 - val_loss: 0.2701 - val_acc: 0.9239\n",
      "Epoch 4/35\n",
      "60000/60000 [==============================] - 8s 138us/step - loss: 0.2462 - acc: 0.9302 - val_loss: 0.2441 - val_acc: 0.9346\n",
      "Epoch 5/35\n",
      "60000/60000 [==============================] - 8s 141us/step - loss: 0.2310 - acc: 0.9333 - val_loss: 0.2623 - val_acc: 0.9317\n",
      "Epoch 6/35\n",
      "60000/60000 [==============================] - 8s 140us/step - loss: 0.2210 - acc: 0.9366 - val_loss: 0.2447 - val_acc: 0.9337\n",
      "Epoch 7/35\n",
      "60000/60000 [==============================] - 8s 140us/step - loss: 0.2105 - acc: 0.9395 - val_loss: 0.2272 - val_acc: 0.9377\n",
      "Epoch 8/35\n",
      "60000/60000 [==============================] - 8s 136us/step - loss: 0.2051 - acc: 0.9399 - val_loss: 0.2188 - val_acc: 0.9395\n",
      "Epoch 9/35\n",
      "60000/60000 [==============================] - 8s 141us/step - loss: 0.1909 - acc: 0.9441 - val_loss: 0.2356 - val_acc: 0.9367\n",
      "Epoch 10/35\n",
      "60000/60000 [==============================] - 8s 138us/step - loss: 0.1885 - acc: 0.9455 - val_loss: 0.2116 - val_acc: 0.9450\n",
      "Epoch 11/35\n",
      "60000/60000 [==============================] - 8s 141us/step - loss: 0.1836 - acc: 0.9460 - val_loss: 0.2090 - val_acc: 0.9461\n",
      "Epoch 12/35\n",
      "60000/60000 [==============================] - 8s 138us/step - loss: 0.1793 - acc: 0.9474 - val_loss: 0.2206 - val_acc: 0.9432\n",
      "Epoch 13/35\n",
      "60000/60000 [==============================] - 8s 136us/step - loss: 0.1724 - acc: 0.9496 - val_loss: 0.2054 - val_acc: 0.9470\n",
      "Epoch 14/35\n",
      "60000/60000 [==============================] - 8s 135us/step - loss: 0.1708 - acc: 0.9504 - val_loss: 0.2085 - val_acc: 0.9426\n",
      "Epoch 15/35\n",
      "60000/60000 [==============================] - 8s 139us/step - loss: 0.1654 - acc: 0.9518 - val_loss: 0.2225 - val_acc: 0.9477\n",
      "Epoch 16/35\n",
      "60000/60000 [==============================] - 9s 146us/step - loss: 0.1666 - acc: 0.9510 - val_loss: 0.2227 - val_acc: 0.9410\n",
      "Epoch 17/35\n",
      "60000/60000 [==============================] - 9s 143us/step - loss: 0.1644 - acc: 0.9524 - val_loss: 0.2017 - val_acc: 0.9496\n",
      "Epoch 18/35\n",
      "60000/60000 [==============================] - 8s 137us/step - loss: 0.1596 - acc: 0.9541 - val_loss: 0.2170 - val_acc: 0.9467\n",
      "Epoch 19/35\n",
      "60000/60000 [==============================] - 8s 135us/step - loss: 0.1555 - acc: 0.9546 - val_loss: 0.2096 - val_acc: 0.9464\n",
      "Epoch 20/35\n",
      "60000/60000 [==============================] - 8s 141us/step - loss: 0.1577 - acc: 0.9537 - val_loss: 0.2245 - val_acc: 0.9451\n",
      "Epoch 21/35\n",
      "60000/60000 [==============================] - 8s 137us/step - loss: 0.1545 - acc: 0.9553 - val_loss: 0.2143 - val_acc: 0.9473\n",
      "Epoch 22/35\n",
      "60000/60000 [==============================] - 9s 144us/step - loss: 0.1512 - acc: 0.9559 - val_loss: 0.2299 - val_acc: 0.9494\n",
      "Epoch 23/35\n",
      "60000/60000 [==============================] - 9s 153us/step - loss: 0.1525 - acc: 0.9561 - val_loss: 0.2166 - val_acc: 0.9463\n",
      "Epoch 24/35\n",
      "60000/60000 [==============================] - 9s 145us/step - loss: 0.1510 - acc: 0.9565 - val_loss: 0.2163 - val_acc: 0.9482\n",
      "Epoch 25/35\n",
      "60000/60000 [==============================] - 9s 142us/step - loss: 0.1458 - acc: 0.9579 - val_loss: 0.2255 - val_acc: 0.9478\n",
      "Epoch 26/35\n",
      "60000/60000 [==============================] - 8s 135us/step - loss: 0.1475 - acc: 0.9572 - val_loss: 0.2115 - val_acc: 0.9508\n",
      "Epoch 27/35\n",
      "60000/60000 [==============================] - 8s 138us/step - loss: 0.1446 - acc: 0.9578 - val_loss: 0.2209 - val_acc: 0.9455\n",
      "Epoch 28/35\n",
      "60000/60000 [==============================] - 9s 142us/step - loss: 0.1474 - acc: 0.9580 - val_loss: 0.2560 - val_acc: 0.9402\n",
      "Epoch 29/35\n",
      "60000/60000 [==============================] - 8s 138us/step - loss: 0.1420 - acc: 0.9589 - val_loss: 0.2271 - val_acc: 0.9484\n",
      "Epoch 30/35\n",
      "60000/60000 [==============================] - 8s 140us/step - loss: 0.1418 - acc: 0.9592 - val_loss: 0.2289 - val_acc: 0.9496\n",
      "Epoch 31/35\n",
      "60000/60000 [==============================] - 8s 137us/step - loss: 0.1409 - acc: 0.9592 - val_loss: 0.2312 - val_acc: 0.9464\n",
      "Epoch 32/35\n",
      "60000/60000 [==============================] - 8s 138us/step - loss: 0.1423 - acc: 0.9596 - val_loss: 0.2249 - val_acc: 0.9523\n",
      "Epoch 33/35\n",
      "60000/60000 [==============================] - 8s 137us/step - loss: 0.1391 - acc: 0.9605 - val_loss: 0.2408 - val_acc: 0.9513\n",
      "Epoch 34/35\n",
      "60000/60000 [==============================] - 8s 136us/step - loss: 0.1392 - acc: 0.9601 - val_loss: 0.2217 - val_acc: 0.9515\n",
      "Epoch 35/35\n",
      "60000/60000 [==============================] - 8s 138us/step - loss: 0.1351 - acc: 0.9617 - val_loss: 0.2419 - val_acc: 0.9491\n"
     ]
    }
   ],
   "source": [
    "history = student.fit(x_train, y_train, epochs=35, batch_size=32, validation_data=(x_test, y_test))"
   ]
  },
  {
   "cell_type": "code",
   "execution_count": 7,
   "metadata": {},
   "outputs": [
    {
     "data": {
      "text/plain": [
       "<Figure size 640x480 with 1 Axes>"
      ]
     },
     "metadata": {},
     "output_type": "display_data"
    }
   ],
   "source": [
    "import matplotlib.pyplot as plt\n",
    "\n",
    "history_dict = history.history\n",
    "loss_values = history_dict['loss']\n",
    "val_loss_values = history_dict['val_loss']\n",
    "\n",
    "epochs = range(1, len(loss_values) + 1)\n",
    "\n",
    "plt.plot(epochs, loss_values, 'bo', label='Training loss')\n",
    "plt.plot(epochs, val_loss_values, 'b', label='Validation loss')\n",
    "plt.title('Training and validation loss')\n",
    "plt.xlabel('Epochs')\n",
    "plt.ylabel('Loss')\n",
    "plt.legend()\n",
    "\n",
    "plt.show()"
   ]
  },
  {
   "cell_type": "code",
   "execution_count": 8,
   "metadata": {},
   "outputs": [
    {
     "data": {
      "image/png": "[encoded data removed]",
      "text/plain": [
       "<Figure size 432x288 with 1 Axes>"
      ]
     },
     "metadata": {
      "needs_background": "light"
     },
     "output_type": "display_data"
    }
   ],
   "source": [
    "plt.clf()\n",
    "acc_values = history_dict['acc']\n",
    "val_acc_values = history_dict['val_acc']\n",
    "\n",
    "plt.plot(epochs, acc_values, 'bo', label='Training acc')\n",
    "plt.plot(epochs, val_acc_values, 'b', label='Valication acc')\n",
    "plt.title('Training and validation accuracy')\n",
    "plt.xlabel('Epochs')\n",
    "plt.ylabel('Accuracy')\n",
    "plt.legend()\n",
    "\n",
    "plt.show()"
   ]
  },
  {
   "cell_type": "code",
   "execution_count": 9,
   "metadata": {},
   "outputs": [
    {
     "name": "stdout",
     "output_type": "stream",
     "text": [
      "10000/10000 [==============================] - 1s 71us/step\n",
      "Errors:  716.9997692108154\n"
     ]
    }
   ],
   "source": [
    "res = student.evaluate(x_test, y_test)\n",
    "print('Errors: ', 10000 - res[1] * 10000)"
   ]
  },
  {
   "cell_type": "code",
   "execution_count": 14,
   "metadata": {},
   "outputs": [
    {
     "data": {
      "text/plain": [
       "[0.26689041370525957, 0.9283000230789185]"
      ]
     },
     "execution_count": 14,
     "metadata": {},
     "output_type": "execute_result"
    }
   ],
   "source": [
    "res"
   ]
  },
  {
   "cell_type": "code",
   "execution_count": 10,
   "metadata": {},
   "outputs": [],
   "source": [
    "student.save('mnist_student.h5')"
   ]
  },
  {
   "cell_type": "code",
   "execution_count": 11,
   "metadata": {},
   "outputs": [
    {
     "name": "stdout",
     "output_type": "stream",
     "text": [
      "Model: \"sequential_1\"\n",
      "_________________________________________________________________\n",
      "Layer (type)                 Output Shape              Param #   \n",
      "=================================================================\n",
      "flatten_1 (Flatten)          (None, 784)               0         \n",
      "_________________________________________________________________\n",
      "dense_1 (Dense)              (None, 32)                25120     \n",
      "_________________________________________________________________\n",
      "dense_2 (Dense)              (None, 32)                1056      \n",
      "_________________________________________________________________\n",
      "dense_3 (Dense)              (None, 10)                330       \n",
      "_________________________________________________________________\n",
      "activation_1 (Activation)    (None, 10)                0         \n",
      "=================================================================\n",
      "Total params: 26,506\n",
      "Trainable params: 26,506\n",
      "Non-trainable params: 0\n",
      "_________________________________________________________________\n"
     ]
    }
   ],
   "source": [
    "student.summary()"
   ]
  }
 ],
 "metadata": {
  "kernelspec": {
   "display_name": "Python 3",
   "language": "python",
   "name": "python3"
  },
  "language_info": {
   "codemirror_mode": {
    "name": "ipython",
    "version": 3
   },
   "file_extension": ".py",
   "mimetype": "text/x-python",
   "name": "python",
   "nbconvert_exporter": "python",
   "pygments_lexer": "ipython3",
   "version": "3.7.3"
  }
 },
 "nbformat": 4,
 "nbformat_minor": 4
}
